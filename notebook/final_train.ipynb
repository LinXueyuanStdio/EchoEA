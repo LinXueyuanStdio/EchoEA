{
 "cells": [
  {
   "cell_type": "code",
   "execution_count": null,
   "metadata": {},
   "outputs": [],
   "source": [
    "import argparse\n",
    "\n",
    "import itertools\n",
    "import torch\n",
    "import torch.nn as nn\n",
    "import torch.nn.functional as F\n",
    "from torch_geometric.utils import softmax, degree\n",
    "from torch_sparse import spmm\n",
    "from RAGAutils import composeS, add_inverse_rels, get_hits, get_hits_stable, get_hits_from_S\n",
    "\n",
    "from data import DBP15K\n",
    "from model import *\n",
    "\n",
    "from toolbox.RandomSeeds import set_seeds\n",
    "from toolbox.DataSchema import cache_data, read_cache\n",
    "from pathlib import Path\n",
    "from utils import load_alignment_pair\n",
    "\n",
    "\n",
    "\n",
    "set_seeds()"
   ]
  },
  {
   "cell_type": "code",
   "execution_count": null,
   "metadata": {},
   "outputs": [],
   "source": [
    "class CFG:\n",
    "    def __init__(self):\n",
    "        self.cuda = True\n",
    "        self.data = 'data'\n",
    "        self.lang = 'zh_en'\n",
    "        self.rate = 0.3\n",
    "        self.r_hidden = 100\n",
    "        self.k = 5\n",
    "        self.gamma = 3\n",
    "        self.epoch = 80\n",
    "        self.neg_epoch = 10\n",
    "        self.test_epoch = 10\n",
    "        self.reset_epoch = 10\n",
    "        self.stable_test = True\n",
    "        \n",
    "        self.keep_seeds = 2000\n",
    "        self.new_train_seeds = 7000\n",
    "        self.neg_seeds = 1000"
   ]
  },
  {
   "cell_type": "code",
   "execution_count": null,
   "metadata": {},
   "outputs": [],
   "source": [
    "# CUDA_VISIBLE_DEVICES=0 python RAGAtrainV10.py --reset_epoch 20 --epoch 160 --r_hidden 300 --test_epoch 40\n",
    "args = CFG()\n",
    "args.lang = 'zh_en'\n",
    "args.neg_epoch = 10\n",
    "args.reset_epoch = 20\n",
    "args.epoch = 1000\n",
    "args.r_hidden = 300\n",
    "args.test_epoch = 100\n",
    "\n",
    "# 模型并行\n",
    "device = 'cuda:0'\n",
    "second_device = 'cuda:1'"
   ]
  },
  {
   "cell_type": "code",
   "execution_count": null,
   "metadata": {},
   "outputs": [],
   "source": [
    "#  前compose\n",
    "root=Path(\"data/%s/cache\"%args.lang)\n",
    "pairs = load_alignment_pair(\"data/%s/ref_ent_ids\"%args.lang)\n",
    "ratio=0.3\n",
    "test_pair = pairs[int(ratio * len(pairs)):]\n",
    "\n",
    "test_seeds = torch.LongTensor(test_pair).to(second_device)\n",
    "\n",
    "S1 = read_cache(root / \"attr_similarity\").to(second_device)  # 属性相似度（集合相似度）\n",
    "S2 = read_cache(root / \"value_similarity\").to(second_device)  # 属性值相似度（集合相似度）"
   ]
  },
  {
   "cell_type": "code",
   "execution_count": null,
   "metadata": {
    "code_folding": []
   },
   "outputs": [],
   "source": [
    "def get_emb(model, data):\n",
    "    model.eval()\n",
    "    with torch.no_grad():\n",
    "        x1 = model(data.x1, data.edge_index1, data.rel1, data.edge_index_all1, data.rel_all1)\n",
    "        x2 = model(data.x2, data.edge_index2, data.rel2, data.edge_index_all2, data.rel_all2)\n",
    "    return x1, x2\n",
    "\n",
    "\n",
    "def train(model, criterion, optimizer, data, train_batch, false_pair=None):\n",
    "    model.train()\n",
    "    x1 = model(data.x1, data.edge_index1, data.rel1, data.edge_index_all1, data.rel_all1)\n",
    "    x2 = model(data.x2, data.edge_index2, data.rel2, data.edge_index_all2, data.rel_all2)\n",
    "    loss = criterion(x1, x2, data.new_train_set, train_batch, false_pair)\n",
    "    optimizer.zero_grad()\n",
    "    loss.backward()\n",
    "    optimizer.step()\n",
    "    return loss\n",
    "\n",
    "\n",
    "def init_data(args, device):\n",
    "    # args.data数据集根目录,args.lang采用的数据集\n",
    "    data = DBP15K(args.data, args.lang, rate=args.rate)[0]\n",
    "    data.x1 = F.normalize(data.x1, dim=1, p=2).to(device).requires_grad_()\n",
    "    data.x2 = F.normalize(data.x2, dim=1, p=2).to(device).requires_grad_()\n",
    "    data.edge_index_all1, data.rel_all1 = add_inverse_rels(data.edge_index1, data.rel1)\n",
    "    data.edge_index_all2, data.rel_all2 = add_inverse_rels(data.edge_index2, data.rel2)\n",
    "    return data\n",
    "\n",
    "def test(x1, x2, data, stable=False):\n",
    "    with torch.no_grad():\n",
    "        print('-' * 16 + 'Train_set' + '-' * 16)\n",
    "        get_hits(x1, x2, data.train_set)\n",
    "        print('-' * 16 + 'Train_set' + '-' * 16)\n",
    "        get_hits(x1, x2, data.new_train_set)\n",
    "        print('-' * 16 + 'Test_set' + '-' * 17)\n",
    "        S, hits1 = get_hits(x1, x2, data.test_set)\n",
    "        if stable:\n",
    "            get_hits_stable(x1, x2, data.test_set)\n",
    "        print()\n",
    "    return S.detach().cpu(), hits1"
   ]
  },
  {
   "cell_type": "code",
   "execution_count": null,
   "metadata": {},
   "outputs": [],
   "source": [
    "data = init_data(args, second_device).to(second_device)\n",
    "# 消融名称\n",
    "ablation = \"_precompose_globalpair\"\n",
    "\n",
    "model = RAGA5(data.x1.size(1), args.r_hidden)\n",
    "optimizer = torch.optim.Adam(itertools.chain(model.parameters(), iter([data.x1, data.x2])))\n",
    "# model, optimizer = apex.amp.initialize(model, optimizer)\n",
    "criterion = L1_Loss(args.gamma)\n",
    "data.new_train_set = data.train_set\n",
    "false_pair = None\n",
    "\n",
    "# 使用测试集hits1寻找最优\n",
    "max_hits1 = 0\n",
    "save_epoch = 200\n",
    "\n",
    "\n",
    "for epoch in range(args.epoch):\n",
    "    if epoch % args.neg_epoch == 0:\n",
    "        x1, x2 = get_emb(model, data)\n",
    "        train_batch = get_train_batch(x1, x2, data.new_train_set, args.k)\n",
    "    loss = train(model, criterion, optimizer, data, train_batch, false_pair)\n",
    "    print('Epoch:', epoch + 1, '/', args.epoch, '\\tLoss: %.3f' % loss, '\\r', end='')\n",
    "    if (epoch + 1) % args.test_epoch == 0:\n",
    "        print()\n",
    "        S, hits1 = test(x1, x2, data, args.stable_test)\n",
    "        if(hits1 >= max_hits1 and epoch + 2 > save_epoch):\n",
    "            max_hits1 = hits1     \n",
    "            # 保存相似度矩阵\n",
    "            cache_dir = Path(\"data/%s/cache/\" % args.lang)\n",
    "            cache_dir.mkdir(exist_ok=True)\n",
    "            cache_data(S, cache_dir / (\"rel_graph_similarity_e\" + str(epoch+1) + \"_n\" + str(args.neg_epoch) + \"_r\" + str(args.reset_epoch)+\"_hit\"+str(int(hits1//1e-4))+ablation))\n",
    "\n",
    "            del S\n",
    "\n",
    "            # 保存实体表示和模型参数\n",
    "            torch.save([data.x1.clone().to('cpu'),data.x2.clone().to('cpu')], (\"saved_models/\"+ args.lang + \"_emb_e\"+  str(epoch+1) + \"_n\" + str(args.neg_epoch) + \"_r\" + str(args.reset_epoch)+\"_hit\"+str(int(hits1//1e-4))+ablation+\".pt\"))\n",
    "            torch.save(model.state_dict(),(\"saved_models/\"+ args.lang + \"_model_e\"+  str(epoch+1) + \"_n\" + str(args.neg_epoch) + \"_r\" + str(args.reset_epoch)+\"_hit\"+str(int(hits1//1e-4))+ablation+\".pt\"))\n",
    "\n",
    "    if (epoch + 1) % args.reset_epoch == 0:\n",
    "        false_pair = reset(x1, x2, data,keep_seeds=args.keep_seeds,new_train_seeds=args.new_train_seeds,neg_seeds=args.neg_seeds)"
   ]
  }
 ],
 "metadata": {
  "kernelspec": {
   "display_name": "song",
   "language": "python",
   "name": "song"
  },
  "language_info": {
   "codemirror_mode": {
    "name": "ipython",
    "version": 3
   },
   "file_extension": ".py",
   "mimetype": "text/x-python",
   "name": "python",
   "nbconvert_exporter": "python",
   "pygments_lexer": "ipython3",
   "version": "3.6.13"
  },
  "latex_envs": {
   "LaTeX_envs_menu_present": true,
   "autoclose": false,
   "autocomplete": true,
   "bibliofile": "biblio.bib",
   "cite_by": "apalike",
   "current_citInitial": 1,
   "eqLabelWithNumbers": true,
   "eqNumInitial": 1,
   "hotkeys": {
    "equation": "Ctrl-E",
    "itemize": "Ctrl-I"
   },
   "labels_anchors": false,
   "latex_user_defs": false,
   "report_style_numbering": false,
   "user_envs_cfg": false
  },
  "varInspector": {
   "cols": {
    "lenName": 16,
    "lenType": 16,
    "lenVar": 40
   },
   "kernels_config": {
    "python": {
     "delete_cmd_postfix": "",
     "delete_cmd_prefix": "del ",
     "library": "var_list.py",
     "varRefreshCmd": "print(var_dic_list())"
    },
    "r": {
     "delete_cmd_postfix": ") ",
     "delete_cmd_prefix": "rm(",
     "library": "var_list.r",
     "varRefreshCmd": "cat(var_dic_list()) "
    }
   },
   "types_to_exclude": [
    "module",
    "function",
    "builtin_function_or_method",
    "instance",
    "_Feature"
   ],
   "window_display": false
  }
 },
 "nbformat": 4,
 "nbformat_minor": 2
}
